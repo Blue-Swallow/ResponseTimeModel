{
 "cells": [
  {
   "cell_type": "code",
   "execution_count": 105,
   "metadata": {},
   "outputs": [],
   "source": [
    "import os\n",
    "import numpy as np\n",
    "import pandas as pd\n",
    "import matplotlib.pyplot as plt\n",
    "from scipy import integrate\n",
    "from cea_post import Read_datset"
   ]
  },
  {
   "cell_type": "markdown",
   "metadata": {},
   "source": [
    "# 各計算に共通なパラメタや関数の定義"
   ]
  },
  {
   "cell_type": "markdown",
   "metadata": {},
   "source": [
    "## 固定パラメタ"
   ]
  },
  {
   "cell_type": "code",
   "execution_count": 87,
   "metadata": {
    "collapsed": true
   },
   "outputs": [],
   "source": [
    "Df = 38e-3 #　[m] fuel outer diamter\n",
    "a = 0.98 #　[-] fuel filling rate\n",
    "Dt = 5.0e-3 # [m] nozzle thorat diamter\n",
    "rho_f = 1190 # [kg/m^3] fuel density\n",
    "R_ox = 1.0 #　[J/kg/K] oxidizer gas constant\n",
    "T_ox = 300 #　[K] oxidizer temperature"
   ]
  },
  {
   "cell_type": "markdown",
   "metadata": {},
   "source": [
    "**パラメタ一覧**\n",
    "\n",
    "燃料外径\n",
    "* $D_f$ = {{Df*1.0e+3}} mm"
   ]
  },
  {
   "cell_type": "markdown",
   "metadata": {},
   "source": [
    "## 初期値"
   ]
  },
  {
   "cell_type": "code",
   "execution_count": 88,
   "metadata": {},
   "outputs": [],
   "source": [
    "Lci = 2.0+1.0e-3 #　[m] initial chamber length\n",
    "Vci = np.pi*np.power(Df,2)/4 * Lci #　[m^3] initial chamber volume"
   ]
  },
  {
   "cell_type": "markdown",
   "metadata": {},
   "source": [
    "**初期値一覧**\n",
    "\n",
    "初期チャンバ容積\n",
    "* $V_{c,i}$ = {{V_i}} m$^3$"
   ]
  },
  {
   "cell_type": "markdown",
   "metadata": {},
   "source": [
    "## 関数"
   ]
  },
  {
   "cell_type": "code",
   "execution_count": 109,
   "metadata": {},
   "outputs": [],
   "source": [
    "\n",
    "def func_Vf(Pc,Vox):\n",
    "    \"\"\" Calculate fuel reguression rate \n",
    "    \n",
    "    Parameter\n",
    "    ------------\n",
    "    Pc: float\n",
    "        chamber pressure [Pa]\n",
    "    Vox: float\n",
    "        oxidizer port velocity [m/s]\n",
    "    \n",
    "    Return\n",
    "    ------------\n",
    "    Vf: float\n",
    "        fuel regression rate\n",
    "    \"\"\"\n",
    "    n = 1.0\n",
    "    C1  = 1.0\n",
    "    C2 = 1.0\n",
    "    Vf = (C1/Vox + C2)*np.power(Pc,n)\n",
    "    return(Vf)\n",
    "\n",
    "def func_Vox( Pc, mox):\n",
    "    \"\"\" Calculate oxidizer port velocity\n",
    "    \n",
    "    Paramter\n",
    "    -----------\n",
    "    Pc: float\n",
    "        chamber pressure [Pa]\n",
    "    mox: float\n",
    "        oxidizer mass flow rate [kg/s]\n",
    "        \n",
    "    Return\n",
    "    -----------\n",
    "    Vox: float\n",
    "        oxidizer port velocity [m/s]\n",
    "    \"\"\"\n",
    "    rho_ox = Pc/(R_ox*T_ox)\n",
    "    Vox = mox/(rho_ox*(1-a)*np.pi*np.power(Df,2)/4)\n",
    "    return(Vox)\n",
    "\n",
    "cea_fldpath = os.path.join(\"cea_db\", \"GOX_CurableResin\", \"csv_database\") # assign folder path of cea-database\n",
    "func_T = Read_datset(cea_fldpath).gen_func(\"T_c\") # generate gas temeratur interporate function\n",
    "func_CSTAR = Read_datset(cea_fldpath).gen_func(\"CSTAR\") # generate c* interporate functioni\n",
    "func_M = Read_datset(cea_fldpath).gen_func(\"M_c\") # generate molecular weight interpolate function\n",
    "\n",
    "def func_R(of, Pc):\n",
    "    \"\"\" Interpolate fuction of gas constant\n",
    "    \n",
    "    Parameter\n",
    "    ------------\n",
    "    of: float\n",
    "        O/F\n",
    "    Pc: float\n",
    "        chamber pressure [Pa]\n",
    "    \n",
    "    Return\n",
    "    -------------\n",
    "    R: float\n",
    "        gas constant [J/kg/K]\n",
    "    \"\"\"\n",
    "    Rstr = 8.43144598 # gas constant [J/mol/K]\n",
    "    M = func_M(of,Pc)\n",
    "    R = Rstr/M\n",
    "    return(R)\n",
    "\n",
    "\n",
    "def func_diff(t, Pc, func_mox):\n",
    "    \"\"\" Delivative of Pc \n",
    "    \n",
    "    Parameter\n",
    "    ------------\n",
    "    t: float\n",
    "        time [s]\n",
    "    Pc: float\n",
    "        chamber pressure [Pa]\n",
    "    func_mox: function, func(t).\n",
    "        oxidizer mass flow rate, function of t.\n",
    "    \n",
    "    Return\n",
    "    ----------\n",
    "    dPc: float\n",
    "        delivative of chamber pressure [Pa/s]\n",
    "    \"\"\"\n",
    "    Af = np.pi*np.power(Df,2)/4\n",
    "    At = np.pi*np.power(Dt,2)/4\n",
    "    mox = func_mox(t)\n",
    "    Vox = func_Vox(Pc, mox)\n",
    "    Vf = func_Vf(Pc, Vox)\n",
    "    mf = Vf*a*Af*rho_f\n",
    "    of = mox/mf\n",
    "    cstr = func_CSTAR(of,Pc)\n",
    "    T = func_T(of,Pc)\n",
    "    R = func_R(of,Pc)\n",
    "    t_array_tmp = np.append(t_array, t)\n",
    "    Vf_array_tmp = np.append(Vf_array, Vf)\n",
    "    integ_Vf = integrate.simps(Vf_array_tmp, t_array_tmp)\n",
    "    \n",
    "    dPc = (-1*Af*Pc*Vf/(R*T) +a*rho_f*Af*Vf -Pc*At/cstr +mox)/((Vci+Af*integ_Vf)/(R*T))\n",
    "    return(dPc)\n",
    "\n",
    "def exe_rungekutta(t_range, func_mox):\n",
    "    # initialize each parameter\n",
    "    Pc_ = Pci\n",
    "    t_array = np.array([])\n",
    "    Pc_array = np.array([])\n",
    "    mox_array = np.array([])\n",
    "    Vox_array = np.array([])\n",
    "    Vf_array = np.array([])\n",
    "    mf_array = np.array([])\n",
    "    of_array = np.array([])\n",
    "    cstr_array = np.array([])\n",
    "    T_array = np.array([])\n",
    "    R_array = np.array([])\n",
    "    integ_Vf_array = np.array([])\n",
    "    for t in t_range:\n",
    "        Pc = Pc_\n",
    "        Af = np.pi*np.power(Df,2)/4\n",
    "        mox = func_mox(t)\n",
    "        Vox = func_Vox(Pc, mox)\n",
    "        Vf = func_Vf(Pc, Vox)\n",
    "        mf = Vf*a*Af*rho_f\n",
    "        of = mox/mf\n",
    "        cstr = func_CSTAR(of,Pc)\n",
    "        T = func_T(of,Pc)\n",
    "        R = func_R(of,Pc)\n",
    "        t_array = np.append(t_array, t)\n",
    "        Pc_array = np.append(Pc_array, Pc)\n",
    "        mox_array = np.append(mox_array, mox)\n",
    "        Vox_array = np.append(Vox_array, Vox)\n",
    "        Vf_array = np.append(Vf_array, Vf)\n",
    "        mf_array = np.append(mf_array, mf)\n",
    "        of_array = np.append(of_array, of)\n",
    "        cstr_array = np.append(cstr_array, cstr)\n",
    "        T_array = np.append(T_array, T)\n",
    "        R_array = np.append(R_array, R)\n",
    "        integ_Vf = integrate.simps(Vf_array, t_array)\n",
    "        integ_Vf_array = np.append(integ_Vf_array, integ_Vf)\n",
    "        \n",
    "        k0 = dt*func_diff(t, Pc, func_mox)[0]\n",
    "        k1 = dt*func_diff(t+dt/2, Pc+k0/2, func_mox)\n",
    "        k2 = dt*func_diff(t+dt/2, Pc+k1/2, func_mox)\n",
    "        k3 = dt*func_diff(t+dt, Pc+k2, func_mox)\n",
    "        k = (k0 +2*k1 +2*k2 +k3)/6\n",
    "        Pc_ = Pc +k     \n",
    "    \n",
    "    df = pd.DataFrame([], index=t_array)\n",
    "    return(df)\n",
    "    \n",
    "    "
   ]
  },
  {
   "cell_type": "markdown",
   "metadata": {},
   "source": [
    "# 計算パート"
   ]
  },
  {
   "cell_type": "markdown",
   "metadata": {},
   "source": [
    "## ※※※"
   ]
  },
  {
   "cell_type": "markdown",
   "metadata": {},
   "source": [
    "### 計算条件"
   ]
  },
  {
   "cell_type": "code",
   "execution_count": 103,
   "metadata": {},
   "outputs": [],
   "source": [
    "# define the function of oxidizer mass flow rate; func_mox\n",
    "def func_mox(t):\n",
    "    init = 5.0 # [s] transient supresstion time\n",
    "    period = 5.0 # [s] period\n",
    "    d_ratio = 0.5 # [-] duty ratio\n",
    "    mox_max = 5.0e-3 # [kg/s] maximum oxidizer mass flow rate\n",
    "    mox_min = 2.0e-3 # [kg/s] minimum oxidizer mass flow rate\n",
    "    if t<init:\n",
    "        mox = mox_min\n",
    "    else:\n",
    "        if (t+init)%period < period*d_ratio:\n",
    "            mox = mox_max\n",
    "        else:\n",
    "            mox = mox_min\n",
    "    return(mox)\n",
    "\n",
    "# define the calculation time step\n",
    "dt = 0.01 # [s] time step\n",
    "\n",
    "# define the calculation time\n",
    "t_range = np.arange(0, 20 +dt/2, dt)\n",
    "\n",
    "# define the initial chamber pressure\n",
    "Pci = 0.2e+6 #　[Pa] initial chamber pressure, absolute pressure\n",
    "\n",
    "# initialize each parameter\n",
    "t_array = np.array([])\n",
    "Pc_array = np.array([])\n",
    "mox_array = np.array([])\n",
    "Vox_array = np.array([])\n",
    "Vf_array = np.array([])\n",
    "mf_array = np.array([])\n",
    "of_array = np.array([])\n",
    "cstr_array = np.array([])\n",
    "T_array = np.array([])\n",
    "R_array = np.array([])\n",
    "integ_Vf_array = np.array([])\n",
    "\n",
    "\n",
    "# % matplotlib inline\n",
    "# plt.plot(t_range, np.array([func_mox(t) for t in t_range]))"
   ]
  },
  {
   "cell_type": "markdown",
   "metadata": {},
   "source": [
    "### 計算実行，出力"
   ]
  },
  {
   "cell_type": "code",
   "execution_count": 110,
   "metadata": {},
   "outputs": [
    {
     "ename": "ValueError",
     "evalue": "If given, length of x along axis must be the same as y.",
     "output_type": "error",
     "traceback": [
      "\u001b[1;31m---------------------------------------------------------------------------\u001b[0m",
      "\u001b[1;31mValueError\u001b[0m                                Traceback (most recent call last)",
      "\u001b[1;32m<ipython-input-110-6e9db0b23136>\u001b[0m in \u001b[0;36m<module>\u001b[1;34m()\u001b[0m\n\u001b[1;32m----> 1\u001b[1;33m \u001b[0mdat\u001b[0m \u001b[1;33m=\u001b[0m \u001b[0mexe_rungekutta\u001b[0m\u001b[1;33m(\u001b[0m\u001b[0mt_range\u001b[0m\u001b[1;33m,\u001b[0m\u001b[0mfunc_mox\u001b[0m\u001b[1;33m)\u001b[0m\u001b[1;33m\u001b[0m\u001b[0m\n\u001b[0m",
      "\u001b[1;32m<ipython-input-109-af4011b2fc36>\u001b[0m in \u001b[0;36mexe_rungekutta\u001b[1;34m(t_range, func_mox)\u001b[0m\n\u001b[0;32m    138\u001b[0m         \u001b[0minteg_Vf_array\u001b[0m \u001b[1;33m=\u001b[0m \u001b[0mnp\u001b[0m\u001b[1;33m.\u001b[0m\u001b[0mappend\u001b[0m\u001b[1;33m(\u001b[0m\u001b[0minteg_Vf_array\u001b[0m\u001b[1;33m,\u001b[0m \u001b[0minteg_Vf\u001b[0m\u001b[1;33m)\u001b[0m\u001b[1;33m\u001b[0m\u001b[0m\n\u001b[0;32m    139\u001b[0m \u001b[1;33m\u001b[0m\u001b[0m\n\u001b[1;32m--> 140\u001b[1;33m         \u001b[0mk0\u001b[0m \u001b[1;33m=\u001b[0m \u001b[0mdt\u001b[0m\u001b[1;33m*\u001b[0m\u001b[0mfunc_diff\u001b[0m\u001b[1;33m(\u001b[0m\u001b[0mt\u001b[0m\u001b[1;33m,\u001b[0m \u001b[0mPc\u001b[0m\u001b[1;33m,\u001b[0m \u001b[0mfunc_mox\u001b[0m\u001b[1;33m)\u001b[0m\u001b[1;33m[\u001b[0m\u001b[1;36m0\u001b[0m\u001b[1;33m]\u001b[0m\u001b[1;33m\u001b[0m\u001b[0m\n\u001b[0m\u001b[0;32m    141\u001b[0m         \u001b[0mk1\u001b[0m \u001b[1;33m=\u001b[0m \u001b[0mdt\u001b[0m\u001b[1;33m*\u001b[0m\u001b[0mfunc_diff\u001b[0m\u001b[1;33m(\u001b[0m\u001b[0mt\u001b[0m\u001b[1;33m+\u001b[0m\u001b[0mdt\u001b[0m\u001b[1;33m/\u001b[0m\u001b[1;36m2\u001b[0m\u001b[1;33m,\u001b[0m \u001b[0mPc\u001b[0m\u001b[1;33m+\u001b[0m\u001b[0mk0\u001b[0m\u001b[1;33m/\u001b[0m\u001b[1;36m2\u001b[0m\u001b[1;33m,\u001b[0m \u001b[0mfunc_mox\u001b[0m\u001b[1;33m)\u001b[0m\u001b[1;33m\u001b[0m\u001b[0m\n\u001b[0;32m    142\u001b[0m         \u001b[0mk2\u001b[0m \u001b[1;33m=\u001b[0m \u001b[0mdt\u001b[0m\u001b[1;33m*\u001b[0m\u001b[0mfunc_diff\u001b[0m\u001b[1;33m(\u001b[0m\u001b[0mt\u001b[0m\u001b[1;33m+\u001b[0m\u001b[0mdt\u001b[0m\u001b[1;33m/\u001b[0m\u001b[1;36m2\u001b[0m\u001b[1;33m,\u001b[0m \u001b[0mPc\u001b[0m\u001b[1;33m+\u001b[0m\u001b[0mk1\u001b[0m\u001b[1;33m/\u001b[0m\u001b[1;36m2\u001b[0m\u001b[1;33m,\u001b[0m \u001b[0mfunc_mox\u001b[0m\u001b[1;33m)\u001b[0m\u001b[1;33m\u001b[0m\u001b[0m\n",
      "\u001b[1;32m<ipython-input-109-af4011b2fc36>\u001b[0m in \u001b[0;36mfunc_diff\u001b[1;34m(t, Pc, func_mox)\u001b[0m\n\u001b[0;32m     95\u001b[0m     \u001b[0mt_array_tmp\u001b[0m \u001b[1;33m=\u001b[0m \u001b[0mnp\u001b[0m\u001b[1;33m.\u001b[0m\u001b[0mappend\u001b[0m\u001b[1;33m(\u001b[0m\u001b[0mt_array\u001b[0m\u001b[1;33m,\u001b[0m \u001b[0mt\u001b[0m\u001b[1;33m)\u001b[0m\u001b[1;33m\u001b[0m\u001b[0m\n\u001b[0;32m     96\u001b[0m     \u001b[0mVf_array_tmp\u001b[0m \u001b[1;33m=\u001b[0m \u001b[0mnp\u001b[0m\u001b[1;33m.\u001b[0m\u001b[0mappend\u001b[0m\u001b[1;33m(\u001b[0m\u001b[0mVf_array\u001b[0m\u001b[1;33m,\u001b[0m \u001b[0mVf\u001b[0m\u001b[1;33m)\u001b[0m\u001b[1;33m\u001b[0m\u001b[0m\n\u001b[1;32m---> 97\u001b[1;33m     \u001b[0minteg_Vf\u001b[0m \u001b[1;33m=\u001b[0m \u001b[0mintegrate\u001b[0m\u001b[1;33m.\u001b[0m\u001b[0msimps\u001b[0m\u001b[1;33m(\u001b[0m\u001b[0mVf_array_tmp\u001b[0m\u001b[1;33m,\u001b[0m \u001b[0mt_array_tmp\u001b[0m\u001b[1;33m)\u001b[0m\u001b[1;33m\u001b[0m\u001b[0m\n\u001b[0m\u001b[0;32m     98\u001b[0m \u001b[1;33m\u001b[0m\u001b[0m\n\u001b[0;32m     99\u001b[0m     \u001b[0mdPc\u001b[0m \u001b[1;33m=\u001b[0m \u001b[1;33m(\u001b[0m\u001b[1;33m-\u001b[0m\u001b[1;36m1\u001b[0m\u001b[1;33m*\u001b[0m\u001b[0mAf\u001b[0m\u001b[1;33m*\u001b[0m\u001b[0mPc\u001b[0m\u001b[1;33m*\u001b[0m\u001b[0mVf\u001b[0m\u001b[1;33m/\u001b[0m\u001b[1;33m(\u001b[0m\u001b[0mR\u001b[0m\u001b[1;33m*\u001b[0m\u001b[0mT\u001b[0m\u001b[1;33m)\u001b[0m \u001b[1;33m+\u001b[0m\u001b[0ma\u001b[0m\u001b[1;33m*\u001b[0m\u001b[0mrho_f\u001b[0m\u001b[1;33m*\u001b[0m\u001b[0mAf\u001b[0m\u001b[1;33m*\u001b[0m\u001b[0mVf\u001b[0m \u001b[1;33m-\u001b[0m\u001b[0mPc\u001b[0m\u001b[1;33m*\u001b[0m\u001b[0mAt\u001b[0m\u001b[1;33m/\u001b[0m\u001b[0mcstr\u001b[0m \u001b[1;33m+\u001b[0m\u001b[0mmox\u001b[0m\u001b[1;33m)\u001b[0m\u001b[1;33m/\u001b[0m\u001b[1;33m(\u001b[0m\u001b[1;33m(\u001b[0m\u001b[0mVci\u001b[0m\u001b[1;33m+\u001b[0m\u001b[0mAf\u001b[0m\u001b[1;33m*\u001b[0m\u001b[0minteg_Vf\u001b[0m\u001b[1;33m)\u001b[0m\u001b[1;33m/\u001b[0m\u001b[1;33m(\u001b[0m\u001b[0mR\u001b[0m\u001b[1;33m*\u001b[0m\u001b[0mT\u001b[0m\u001b[1;33m)\u001b[0m\u001b[1;33m)\u001b[0m\u001b[1;33m\u001b[0m\u001b[0m\n",
      "\u001b[1;32mC:\\Users\\TJ\\Anaconda3\\lib\\site-packages\\scipy\\integrate\\quadrature.py\u001b[0m in \u001b[0;36msimps\u001b[1;34m(y, x, dx, axis, even)\u001b[0m\n\u001b[0;32m    400\u001b[0m                              \"same as y.\")\n\u001b[0;32m    401\u001b[0m         \u001b[1;32mif\u001b[0m \u001b[0mx\u001b[0m\u001b[1;33m.\u001b[0m\u001b[0mshape\u001b[0m\u001b[1;33m[\u001b[0m\u001b[0maxis\u001b[0m\u001b[1;33m]\u001b[0m \u001b[1;33m!=\u001b[0m \u001b[0mN\u001b[0m\u001b[1;33m:\u001b[0m\u001b[1;33m\u001b[0m\u001b[0m\n\u001b[1;32m--> 402\u001b[1;33m             raise ValueError(\"If given, length of x along axis must be the \"\n\u001b[0m\u001b[0;32m    403\u001b[0m                              \"same as y.\")\n\u001b[0;32m    404\u001b[0m     \u001b[1;32mif\u001b[0m \u001b[0mN\u001b[0m \u001b[1;33m%\u001b[0m \u001b[1;36m2\u001b[0m \u001b[1;33m==\u001b[0m \u001b[1;36m0\u001b[0m\u001b[1;33m:\u001b[0m\u001b[1;33m\u001b[0m\u001b[0m\n",
      "\u001b[1;31mValueError\u001b[0m: If given, length of x along axis must be the same as y."
     ]
    }
   ],
   "source": [
    "dat = exe_rungekutta(t_range,func_mox)"
   ]
  }
 ],
 "metadata": {
  "kernelspec": {
   "display_name": "Python [conda env:Anaconda3]",
   "language": "python",
   "name": "conda-env-Anaconda3-py"
  },
  "language_info": {
   "codemirror_mode": {
    "name": "ipython",
    "version": 3
   },
   "file_extension": ".py",
   "mimetype": "text/x-python",
   "name": "python",
   "nbconvert_exporter": "python",
   "pygments_lexer": "ipython3",
   "version": "3.5.3"
  }
 },
 "nbformat": 4,
 "nbformat_minor": 2
}
